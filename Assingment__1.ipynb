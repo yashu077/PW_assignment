{
 "cells": [
  {
   "cell_type": "markdown",
   "id": "ceca87a3-e048-4a86-bd2e-64f337a1cbe9",
   "metadata": {},
   "source": [
    "--------------------------Assignment-1-------------------------\n"
   ]
  },
  {
   "cell_type": "markdown",
   "id": "1f9bf680-b231-461d-aff0-149b03adadab",
   "metadata": {},
   "source": [
    "Q1. Create one variable containing following type of data:\n",
    "(i) string\n",
    "(ii) list\n",
    "(iii) float\n",
    "(iv) tuple"
   ]
  },
  {
   "cell_type": "code",
   "execution_count": 22,
   "id": "14666101-2640-4ae2-b9cf-c45d1a00c26c",
   "metadata": {},
   "outputs": [],
   "source": [
    "#Ans-1-\n",
    "#String\n",
    "a=\"This is Yash\""
   ]
  },
  {
   "cell_type": "code",
   "execution_count": 12,
   "id": "b0e167d9-7441-4318-9c8f-4b2baf9c1186",
   "metadata": {},
   "outputs": [
    {
     "data": {
      "text/plain": [
       "str"
      ]
     },
     "execution_count": 12,
     "metadata": {},
     "output_type": "execute_result"
    }
   ],
   "source": [
    "type(a)"
   ]
  },
  {
   "cell_type": "code",
   "execution_count": 14,
   "id": "380a3cd7-b501-422f-9b10-eaab0c8e50a2",
   "metadata": {},
   "outputs": [
    {
     "data": {
      "text/plain": [
       "'This is Yash'"
      ]
     },
     "execution_count": 14,
     "metadata": {},
     "output_type": "execute_result"
    }
   ],
   "source": [
    "a"
   ]
  },
  {
   "cell_type": "code",
   "execution_count": 13,
   "id": "6b2fe872-97f8-4a25-81ef-e32a273360ac",
   "metadata": {},
   "outputs": [],
   "source": [
    "#List\n",
    "a1=[\"Yash\",\"Aanshi\",1,2,3,3+4j,True,False,33.14]"
   ]
  },
  {
   "cell_type": "code",
   "execution_count": 15,
   "id": "540775d4-83db-476d-94f8-cd9b76571c74",
   "metadata": {},
   "outputs": [
    {
     "data": {
      "text/plain": [
       "list"
      ]
     },
     "execution_count": 15,
     "metadata": {},
     "output_type": "execute_result"
    }
   ],
   "source": [
    "type(a1)"
   ]
  },
  {
   "cell_type": "code",
   "execution_count": 16,
   "id": "8fb659c4-6f39-4e5c-ac08-584c33abd0b6",
   "metadata": {},
   "outputs": [
    {
     "data": {
      "text/plain": [
       "['Yash', 'Aanshi', 1, 2, 3, (3+4j), True, False, 33.14]"
      ]
     },
     "execution_count": 16,
     "metadata": {},
     "output_type": "execute_result"
    }
   ],
   "source": [
    "a1"
   ]
  },
  {
   "cell_type": "code",
   "execution_count": 7,
   "id": "30b1014b-529b-474d-9ae7-f983089a3d07",
   "metadata": {},
   "outputs": [],
   "source": [
    "#Float\n",
    "a2=33.14"
   ]
  },
  {
   "cell_type": "code",
   "execution_count": 17,
   "id": "b3c606ab-5564-48f2-8f43-0d9a58fab0da",
   "metadata": {},
   "outputs": [
    {
     "data": {
      "text/plain": [
       "float"
      ]
     },
     "execution_count": 17,
     "metadata": {},
     "output_type": "execute_result"
    }
   ],
   "source": [
    "type(a2)"
   ]
  },
  {
   "cell_type": "code",
   "execution_count": 18,
   "id": "33de0f43-8ec7-4ca1-a7a9-3439a091bf20",
   "metadata": {},
   "outputs": [
    {
     "data": {
      "text/plain": [
       "33.14"
      ]
     },
     "execution_count": 18,
     "metadata": {},
     "output_type": "execute_result"
    }
   ],
   "source": [
    "a2"
   ]
  },
  {
   "cell_type": "code",
   "execution_count": 9,
   "id": "e1c196bd-17b7-4e5e-b33c-8547233d5fb5",
   "metadata": {},
   "outputs": [],
   "source": [
    "#Tuple\n",
    "a3=(\"Piyush\",9,6,3,4,5,6,\"Shivansh\")"
   ]
  },
  {
   "cell_type": "code",
   "execution_count": 19,
   "id": "265bfc36-e364-434a-a4b7-5a368c12b086",
   "metadata": {},
   "outputs": [
    {
     "data": {
      "text/plain": [
       "tuple"
      ]
     },
     "execution_count": 19,
     "metadata": {},
     "output_type": "execute_result"
    }
   ],
   "source": [
    "type(a3)"
   ]
  },
  {
   "cell_type": "code",
   "execution_count": 20,
   "id": "8408bc4b-8203-4a00-9e48-1e866aa8a7e7",
   "metadata": {},
   "outputs": [
    {
     "data": {
      "text/plain": [
       "('Piyush', 9, 6, 3, 4, 5, 6, 'Shivansh')"
      ]
     },
     "execution_count": 20,
     "metadata": {},
     "output_type": "execute_result"
    }
   ],
   "source": [
    "a3"
   ]
  },
  {
   "cell_type": "code",
   "execution_count": null,
   "id": "fb63ab70-6101-4a3c-9582-631ffd688dba",
   "metadata": {},
   "outputs": [],
   "source": []
  },
  {
   "cell_type": "code",
   "execution_count": null,
   "id": "abd9d090-f769-446b-a72e-d7fc1a4848fd",
   "metadata": {},
   "outputs": [],
   "source": []
  },
  {
   "cell_type": "markdown",
   "id": "23a08db9-07ed-4afe-9132-e1bac30cd6a1",
   "metadata": {},
   "source": [
    "Q2. Given are some following variables containing data:\n",
    "(i) var1 = ‘ ‘\n",
    "(ii) var2 = ‘[ DS , ML , Python]’\n",
    "(iii) var3 = [ ‘DS’ , ’ML’ , ‘Python’ ]\n",
    "(iv) var4 = 1.\n",
    "What will be the data type of the above given variable."
   ]
  },
  {
   "cell_type": "code",
   "execution_count": 23,
   "id": "05096391-d053-4153-8490-ff3943e91581",
   "metadata": {},
   "outputs": [
    {
     "ename": "SyntaxError",
     "evalue": "invalid character '‘' (U+2018) (601729129.py, line 2)",
     "output_type": "error",
     "traceback": [
      "\u001b[0;36m  Cell \u001b[0;32mIn[23], line 2\u001b[0;36m\u001b[0m\n\u001b[0;31m    var1 = ‘ ‘\u001b[0m\n\u001b[0m           ^\u001b[0m\n\u001b[0;31mSyntaxError\u001b[0m\u001b[0;31m:\u001b[0m invalid character '‘' (U+2018)\n"
     ]
    }
   ],
   "source": [
    "#Ans-2-\n",
    "var1 = ‘ ‘\n",
    "type(var1)"
   ]
  },
  {
   "cell_type": "code",
   "execution_count": 24,
   "id": "569c87eb-d975-43ce-96d5-2c4f62fc3b56",
   "metadata": {},
   "outputs": [
    {
     "ename": "SyntaxError",
     "evalue": "invalid character '‘' (U+2018) (3990704681.py, line 1)",
     "output_type": "error",
     "traceback": [
      "\u001b[0;36m  Cell \u001b[0;32mIn[24], line 1\u001b[0;36m\u001b[0m\n\u001b[0;31m    var2 = ‘[ DS , ML , Python]’\u001b[0m\n\u001b[0m           ^\u001b[0m\n\u001b[0;31mSyntaxError\u001b[0m\u001b[0;31m:\u001b[0m invalid character '‘' (U+2018)\n"
     ]
    }
   ],
   "source": [
    "var2 = ‘[ DS , ML , Python]’\n",
    "type(var2)"
   ]
  },
  {
   "cell_type": "code",
   "execution_count": 26,
   "id": "861761f6-159e-4392-ba7c-493b5f5c356f",
   "metadata": {},
   "outputs": [
    {
     "ename": "SyntaxError",
     "evalue": "invalid character '‘' (U+2018) (2941072232.py, line 1)",
     "output_type": "error",
     "traceback": [
      "\u001b[0;36m  Cell \u001b[0;32mIn[26], line 1\u001b[0;36m\u001b[0m\n\u001b[0;31m    var3 = [‘DS’ , ’ML’ , ‘Python’ ]\u001b[0m\n\u001b[0m            ^\u001b[0m\n\u001b[0;31mSyntaxError\u001b[0m\u001b[0;31m:\u001b[0m invalid character '‘' (U+2018)\n"
     ]
    }
   ],
   "source": [
    "var3 = [‘DS’ , ’ML’ , ‘Python’ ]\n",
    "type(var3)"
   ]
  },
  {
   "cell_type": "code",
   "execution_count": 27,
   "id": "cf99c4ad-f7d1-475a-9b1d-f492e974e2b2",
   "metadata": {},
   "outputs": [
    {
     "data": {
      "text/plain": [
       "float"
      ]
     },
     "execution_count": 27,
     "metadata": {},
     "output_type": "execute_result"
    }
   ],
   "source": [
    "var4 = 1.\n",
    "type(var4)"
   ]
  },
  {
   "cell_type": "code",
   "execution_count": null,
   "id": "23c451b3-1006-4d4c-b9da-a00eea1527f0",
   "metadata": {},
   "outputs": [],
   "source": []
  },
  {
   "cell_type": "code",
   "execution_count": null,
   "id": "4166bce4-dfac-4e99-a36c-eb20507245e7",
   "metadata": {},
   "outputs": [],
   "source": []
  },
  {
   "cell_type": "markdown",
   "id": "38505c1c-5b94-4ec7-bf45-e2ff4f2f0c5e",
   "metadata": {},
   "source": [
    "Q3. Explain the use of the following operators using an example:\n",
    "(i) /\n",
    "(ii) %\n",
    "(iii) //\n",
    "(iv) **"
   ]
  },
  {
   "cell_type": "code",
   "execution_count": 28,
   "id": "2cc78f69-0df4-4186-aa84-c6331e7dc57b",
   "metadata": {},
   "outputs": [
    {
     "data": {
      "text/plain": [
       "1.0"
      ]
     },
     "execution_count": 28,
     "metadata": {},
     "output_type": "execute_result"
    }
   ],
   "source": [
    "#Ans-3-\n",
    "#   (/) operator is used to division purpose explaning\n",
    "3/3"
   ]
  },
  {
   "cell_type": "code",
   "execution_count": 29,
   "id": "740d3084-e28f-46d8-a9b9-2f99b4b9e105",
   "metadata": {},
   "outputs": [
    {
     "data": {
      "text/plain": [
       "0.6666666666666666"
      ]
     },
     "execution_count": 29,
     "metadata": {},
     "output_type": "execute_result"
    }
   ],
   "source": [
    "2/3"
   ]
  },
  {
   "cell_type": "code",
   "execution_count": 30,
   "id": "cb4babd8-15f9-48dd-8173-fa31d7401c3b",
   "metadata": {},
   "outputs": [
    {
     "data": {
      "text/plain": [
       "10.0"
      ]
     },
     "execution_count": 30,
     "metadata": {},
     "output_type": "execute_result"
    }
   ],
   "source": [
    "100/10"
   ]
  },
  {
   "cell_type": "code",
   "execution_count": 31,
   "id": "9458070f-a250-4ce3-8c56-633ae8d0a6c1",
   "metadata": {},
   "outputs": [
    {
     "data": {
      "text/plain": [
       "0"
      ]
     },
     "execution_count": 31,
     "metadata": {},
     "output_type": "execute_result"
    }
   ],
   "source": [
    "# (%) modilus operator is use to provide the remainder of the query explaining\n",
    "1%1"
   ]
  },
  {
   "cell_type": "code",
   "execution_count": 32,
   "id": "b1f8130d-e973-4c33-9fd9-367aa87b45ae",
   "metadata": {},
   "outputs": [
    {
     "data": {
      "text/plain": [
       "1"
      ]
     },
     "execution_count": 32,
     "metadata": {},
     "output_type": "execute_result"
    }
   ],
   "source": [
    "3%2"
   ]
  },
  {
   "cell_type": "code",
   "execution_count": 33,
   "id": "94994c1b-ec26-4463-b017-b5a98556f9d4",
   "metadata": {},
   "outputs": [
    {
     "data": {
      "text/plain": [
       "1"
      ]
     },
     "execution_count": 33,
     "metadata": {},
     "output_type": "execute_result"
    }
   ],
   "source": [
    "5%2"
   ]
  },
  {
   "cell_type": "code",
   "execution_count": 36,
   "id": "a8b509cb-d684-428d-b615-6066bf862360",
   "metadata": {},
   "outputs": [
    {
     "data": {
      "text/plain": [
       "3"
      ]
     },
     "execution_count": 36,
     "metadata": {},
     "output_type": "execute_result"
    }
   ],
   "source": [
    "7%4"
   ]
  },
  {
   "cell_type": "code",
   "execution_count": 37,
   "id": "bcee506c-06a0-4cd8-8457-2a83b1ce5770",
   "metadata": {},
   "outputs": [
    {
     "data": {
      "text/plain": [
       "0"
      ]
     },
     "execution_count": 37,
     "metadata": {},
     "output_type": "execute_result"
    }
   ],
   "source": [
    "# (//) flour division is used to give the output of the division withount point value explaning\n",
    "2//3"
   ]
  },
  {
   "cell_type": "code",
   "execution_count": 38,
   "id": "92afaf06-26fa-4aad-b2da-3497d06e97b7",
   "metadata": {},
   "outputs": [
    {
     "data": {
      "text/plain": [
       "0"
      ]
     },
     "execution_count": 38,
     "metadata": {},
     "output_type": "execute_result"
    }
   ],
   "source": [
    "8//9"
   ]
  },
  {
   "cell_type": "code",
   "execution_count": 40,
   "id": "6e745471-4ca1-4e92-91a0-d990119f7856",
   "metadata": {},
   "outputs": [
    {
     "data": {
      "text/plain": [
       "27"
      ]
     },
     "execution_count": 40,
     "metadata": {},
     "output_type": "execute_result"
    }
   ],
   "source": [
    "55//2"
   ]
  },
  {
   "cell_type": "code",
   "execution_count": 41,
   "id": "0b74442a-dc3a-4e96-a810-4e0538d21708",
   "metadata": {},
   "outputs": [
    {
     "data": {
      "text/plain": [
       "4"
      ]
     },
     "execution_count": 41,
     "metadata": {},
     "output_type": "execute_result"
    }
   ],
   "source": [
    "# (**) power is used to calculate the power like aquare and more of the query explning\n",
    "2**2"
   ]
  },
  {
   "cell_type": "code",
   "execution_count": 42,
   "id": "d695b0c6-ffaf-4403-ab53-041f8871699b",
   "metadata": {},
   "outputs": [
    {
     "data": {
      "text/plain": [
       "9"
      ]
     },
     "execution_count": 42,
     "metadata": {},
     "output_type": "execute_result"
    }
   ],
   "source": [
    "3**2"
   ]
  },
  {
   "cell_type": "code",
   "execution_count": 43,
   "id": "5c06e9d4-c03b-486a-94de-5b269f0f9639",
   "metadata": {},
   "outputs": [
    {
     "data": {
      "text/plain": [
       "35937"
      ]
     },
     "execution_count": 43,
     "metadata": {},
     "output_type": "execute_result"
    }
   ],
   "source": [
    "33**3"
   ]
  },
  {
   "cell_type": "code",
   "execution_count": 45,
   "id": "f9317c3b-1621-446c-8c0f-85fa22e6a694",
   "metadata": {},
   "outputs": [
    {
     "data": {
      "text/plain": [
       "81"
      ]
     },
     "execution_count": 45,
     "metadata": {},
     "output_type": "execute_result"
    }
   ],
   "source": [
    "9**2"
   ]
  },
  {
   "cell_type": "code",
   "execution_count": null,
   "id": "b5cd36e9-be39-42ee-993f-0836ec2d43f6",
   "metadata": {},
   "outputs": [],
   "source": []
  },
  {
   "cell_type": "code",
   "execution_count": null,
   "id": "2494a85b-5db7-4c67-a3d5-ff2fba8e7815",
   "metadata": {},
   "outputs": [],
   "source": []
  },
  {
   "cell_type": "markdown",
   "id": "cab1a117-8c83-4c2c-9a4a-cd4bb83837e0",
   "metadata": {},
   "source": [
    "Q4. Create a list of length 10 of your choice containing multiple types of data. Using for loop print the\n",
    "element and its data type."
   ]
  },
  {
   "cell_type": "code",
   "execution_count": 49,
   "id": "42145fd7-1477-4c84-9884-127b1e883e3b",
   "metadata": {},
   "outputs": [],
   "source": [
    "l=[\"yash\",1,2,3,\"Aanshi\",33.14,6+9j,True,False,56]"
   ]
  },
  {
   "cell_type": "code",
   "execution_count": 50,
   "id": "0f777e4b-d423-4e42-bfe0-e6274da72282",
   "metadata": {},
   "outputs": [
    {
     "data": {
      "text/plain": [
       "['yash', 1, 2, 3, 'Aanshi', 33.14, (6+9j), True, False, 56]"
      ]
     },
     "execution_count": 50,
     "metadata": {},
     "output_type": "execute_result"
    }
   ],
   "source": [
    "l"
   ]
  },
  {
   "cell_type": "code",
   "execution_count": 51,
   "id": "d98ee342-488b-4e65-86d1-ae9d86bba219",
   "metadata": {},
   "outputs": [
    {
     "data": {
      "text/plain": [
       "10"
      ]
     },
     "execution_count": 51,
     "metadata": {},
     "output_type": "execute_result"
    }
   ],
   "source": [
    "len(l)"
   ]
  },
  {
   "cell_type": "code",
   "execution_count": 52,
   "id": "36dfe229-1c03-4d42-b75e-090567e74e0d",
   "metadata": {},
   "outputs": [
    {
     "name": "stdout",
     "output_type": "stream",
     "text": [
      "yash\n",
      "1\n",
      "2\n",
      "3\n",
      "Aanshi\n",
      "33.14\n",
      "(6+9j)\n",
      "True\n",
      "False\n",
      "56\n"
     ]
    }
   ],
   "source": [
    "for i in l:\n",
    "    print(i)"
   ]
  },
  {
   "cell_type": "code",
   "execution_count": null,
   "id": "e9a15e21-ab00-42bc-8e12-371f1997886a",
   "metadata": {},
   "outputs": [],
   "source": []
  },
  {
   "cell_type": "code",
   "execution_count": null,
   "id": "2f548250-b1e3-4c1b-a6c0-8492d3c8aaf0",
   "metadata": {},
   "outputs": [],
   "source": []
  },
  {
   "cell_type": "markdown",
   "id": "95b41772-2b46-4f90-aaed-b42fd3218f48",
   "metadata": {},
   "source": [
    "Q5. Using a while loop, verify if the number A is purely divisible by number 8 and if so then how many\n",
    "times it can be divisible."
   ]
  },
  {
   "cell_type": "code",
   "execution_count": null,
   "id": "bc9562d6-7c38-4ee8-a99e-e6d703b5d53c",
   "metadata": {},
   "outputs": [],
   "source": []
  },
  {
   "cell_type": "code",
   "execution_count": null,
   "id": "0124828a-cb2f-4492-ae1c-664c63a19235",
   "metadata": {},
   "outputs": [],
   "source": []
  },
  {
   "cell_type": "markdown",
   "id": "40a3744e-6541-4640-a1bc-f6244223af7e",
   "metadata": {},
   "source": [
    "Q6. Create a list containing 25 int type data. Using for loop and if-else condition print if the element is\n",
    "divisible by 3 or not."
   ]
  },
  {
   "cell_type": "code",
   "execution_count": 54,
   "id": "36c07758-81f9-4875-804e-e7f8d7a85ef6",
   "metadata": {},
   "outputs": [],
   "source": [
    "l1=[1,2,3,4,5,6,7,8,9,10,11,12,13,14,15,16,17,18,19,20,21,22,23,24,25]"
   ]
  },
  {
   "cell_type": "code",
   "execution_count": 55,
   "id": "99d27dcf-92e9-4db5-b632-5e6f220031bf",
   "metadata": {},
   "outputs": [
    {
     "data": {
      "text/plain": [
       "25"
      ]
     },
     "execution_count": 55,
     "metadata": {},
     "output_type": "execute_result"
    }
   ],
   "source": [
    "len(l1)"
   ]
  },
  {
   "cell_type": "code",
   "execution_count": 60,
   "id": "9917cbc3-6c93-42f8-ab35-e42f2ac6553f",
   "metadata": {},
   "outputs": [
    {
     "name": "stdout",
     "output_type": "stream",
     "text": [
      "No\n",
      "No\n",
      "Yes\n",
      "No\n",
      "No\n",
      "Yes\n",
      "No\n",
      "No\n",
      "Yes\n",
      "No\n",
      "No\n",
      "Yes\n",
      "No\n",
      "No\n",
      "Yes\n",
      "No\n",
      "No\n",
      "Yes\n",
      "No\n",
      "No\n",
      "Yes\n",
      "No\n",
      "No\n",
      "Yes\n",
      "No\n"
     ]
    }
   ],
   "source": [
    "for i in l1 :\n",
    "    if i % 3 == 0:\n",
    "        print(\"Yes\")\n",
    "    else:\n",
    "        print(\"No\")"
   ]
  },
  {
   "cell_type": "code",
   "execution_count": null,
   "id": "d85089a3-5e24-44e5-8d2c-e1238375c338",
   "metadata": {},
   "outputs": [],
   "source": []
  },
  {
   "cell_type": "code",
   "execution_count": null,
   "id": "a09d37fe-a34d-4c8b-b11a-2d73842e798d",
   "metadata": {},
   "outputs": [],
   "source": []
  },
  {
   "cell_type": "markdown",
   "id": "67dbe4f7-14b2-4342-a3ed-0565e705c0fb",
   "metadata": {},
   "source": [
    "Q7. What do you understand about mutable and immutable data types? Give examples for both showing\n",
    "this property."
   ]
  },
  {
   "cell_type": "markdown",
   "id": "d782df01-7b43-40f7-a0de-ff7e68c2500f",
   "metadata": {},
   "source": [
    "Ans-7-\n",
    "Mutable are those variables which we can chnage without changing the whole variable explaning eg- list"
   ]
  },
  {
   "cell_type": "code",
   "execution_count": 61,
   "id": "4e1ba3a5-4504-4831-8791-66e0cc20a7d2",
   "metadata": {},
   "outputs": [],
   "source": [
    "l3=[\"yash\",\"Bawne\"]"
   ]
  },
  {
   "cell_type": "code",
   "execution_count": 62,
   "id": "dd2a774d-912d-4978-a256-e95146717801",
   "metadata": {},
   "outputs": [
    {
     "data": {
      "text/plain": [
       "['yash', 'Bawne']"
      ]
     },
     "execution_count": 62,
     "metadata": {},
     "output_type": "execute_result"
    }
   ],
   "source": [
    "l3"
   ]
  },
  {
   "cell_type": "code",
   "execution_count": 63,
   "id": "bfad1d20-7203-4942-8941-1eaf799b2fc4",
   "metadata": {},
   "outputs": [],
   "source": [
    "l3[1] = \"veer\""
   ]
  },
  {
   "cell_type": "code",
   "execution_count": 64,
   "id": "ab2f953d-359e-4d60-b01e-7ab526320d8c",
   "metadata": {},
   "outputs": [
    {
     "data": {
      "text/plain": [
       "['yash', 'veer']"
      ]
     },
     "execution_count": 64,
     "metadata": {},
     "output_type": "execute_result"
    }
   ],
   "source": [
    "l3"
   ]
  },
  {
   "cell_type": "markdown",
   "id": "38ab7671-51db-4590-9a96-82e3defbc688",
   "metadata": {},
   "source": [
    "Immutable are those variable which can not be changed until we overwrit the variable eg- string ,tuple, set"
   ]
  },
  {
   "cell_type": "code",
   "execution_count": 65,
   "id": "9ace5c92-5668-45ce-a8e4-cb3768003f4c",
   "metadata": {},
   "outputs": [],
   "source": [
    "s1=\"yash\""
   ]
  },
  {
   "cell_type": "code",
   "execution_count": 66,
   "id": "e10dac82-d9cb-4eac-83b2-6d8178421f1e",
   "metadata": {},
   "outputs": [
    {
     "data": {
      "text/plain": [
       "'yash'"
      ]
     },
     "execution_count": 66,
     "metadata": {},
     "output_type": "execute_result"
    }
   ],
   "source": [
    "s1"
   ]
  },
  {
   "cell_type": "code",
   "execution_count": 67,
   "id": "89b39bc1-f31f-4b0c-ad1a-da6f73d29f2b",
   "metadata": {},
   "outputs": [
    {
     "data": {
      "text/plain": [
       "str"
      ]
     },
     "execution_count": 67,
     "metadata": {},
     "output_type": "execute_result"
    }
   ],
   "source": [
    "type(s1)"
   ]
  },
  {
   "cell_type": "code",
   "execution_count": 68,
   "id": "485894b7-b079-40db-8e37-8ec22ea3684d",
   "metadata": {},
   "outputs": [
    {
     "data": {
      "text/plain": [
       "'y'"
      ]
     },
     "execution_count": 68,
     "metadata": {},
     "output_type": "execute_result"
    }
   ],
   "source": [
    "s1[0]"
   ]
  },
  {
   "cell_type": "code",
   "execution_count": 69,
   "id": "a446e521-eb3b-42a7-8a51-dbc781f8df2b",
   "metadata": {},
   "outputs": [
    {
     "ename": "TypeError",
     "evalue": "'str' object does not support item assignment",
     "output_type": "error",
     "traceback": [
      "\u001b[0;31m---------------------------------------------------------------------------\u001b[0m",
      "\u001b[0;31mTypeError\u001b[0m                                 Traceback (most recent call last)",
      "Cell \u001b[0;32mIn[69], line 1\u001b[0m\n\u001b[0;32m----> 1\u001b[0m \u001b[43ms1\u001b[49m\u001b[43m[\u001b[49m\u001b[38;5;241;43m0\u001b[39;49m\u001b[43m]\u001b[49m \u001b[38;5;241m=\u001b[39m\u001b[38;5;124m\"\u001b[39m\u001b[38;5;124ma\u001b[39m\u001b[38;5;124m\"\u001b[39m\n",
      "\u001b[0;31mTypeError\u001b[0m: 'str' object does not support item assignment"
     ]
    }
   ],
   "source": [
    "s1[0] =\"a\""
   ]
  },
  {
   "cell_type": "code",
   "execution_count": null,
   "id": "78f6a7d5-8865-42c0-9691-c5324bca4565",
   "metadata": {},
   "outputs": [],
   "source": []
  }
 ],
 "metadata": {
  "kernelspec": {
   "display_name": "Python 3 (ipykernel)",
   "language": "python",
   "name": "python3"
  },
  "language_info": {
   "codemirror_mode": {
    "name": "ipython",
    "version": 3
   },
   "file_extension": ".py",
   "mimetype": "text/x-python",
   "name": "python",
   "nbconvert_exporter": "python",
   "pygments_lexer": "ipython3",
   "version": "3.10.8"
  }
 },
 "nbformat": 4,
 "nbformat_minor": 5
}
